{
  "nbformat": 4,
  "nbformat_minor": 0,
  "metadata": {
    "colab": {
      "provenance": [],
      "authorship_tag": "ABX9TyMebjiWA/ay9mL+ilj7WQU3",
      "include_colab_link": true
    },
    "kernelspec": {
      "name": "python3",
      "display_name": "Python 3"
    },
    "language_info": {
      "name": "python"
    }
  },
  "cells": [
    {
      "cell_type": "markdown",
      "metadata": {
        "id": "view-in-github",
        "colab_type": "text"
      },
      "source": [
        "<a href=\"https://colab.research.google.com/github/Dzikronb/Fuzzy/blob/main/Fuzzy.ipynb\" target=\"_parent\"><img src=\"https://colab.research.google.com/assets/colab-badge.svg\" alt=\"Open In Colab\"/></a>"
      ]
    },
    {
      "cell_type": "code",
      "execution_count": 1,
      "metadata": {
        "id": "OpecqExmimOP"
      },
      "outputs": [],
      "source": [
        "import numpy as np\n",
        "import pandas as pd"
      ]
    },
    {
      "cell_type": "code",
      "source": [
        "from google.colab import files\n",
        "uploaded = files.upload()"
      ],
      "metadata": {
        "id": "cBT6bVrfirF0"
      },
      "execution_count": null,
      "outputs": []
    },
    {
      "cell_type": "code",
      "source": [
        "import io\n",
        "df2 = pd.read_excel(io.BytesIO(uploaded['News.xlsx']))\n",
        "# Dataset is now stored in a Pandas Dataframe\n",
        "\n",
        "print(df2)"
      ],
      "metadata": {
        "colab": {
          "base_uri": "https://localhost:8080/"
        },
        "id": "ML-wks-mixCx",
        "outputId": "2338e3f5-2b26-465a-e756-30bbbf62c974"
      },
      "execution_count": 14,
      "outputs": [
        {
          "output_type": "stream",
          "name": "stdout",
          "text": [
            "   News  Emotion  Provoke Hoax\n",
            "0   B01       97       74  Yes\n",
            "1   B02       36       85  Yes\n",
            "2   B03       63       43   No\n",
            "3   B04       82       90  Yes\n",
            "4   B05       71       25   No\n",
            "5   B06       79       81  Yes\n",
            "6   B07       55       62   No\n",
            "7   B08       57       45   No\n",
            "8   B09       40       65   No\n",
            "9   B10       57       45   No\n",
            "10  B11       77       70  Yes\n",
            "11  B12       68       75  Yes\n",
            "12  B13       60       70   No\n",
            "13  B14       82       90  Yes\n",
            "14  B15       40       85   No\n",
            "15  B16       80       68  Yes\n",
            "16  B17       60       72   No\n",
            "17  B18       50       95  Yes\n",
            "18  B19      100       18   No\n",
            "19  B20       11       99  Yes\n",
            "20  B21       58       63    ?\n",
            "21  B22       68       70    ?\n",
            "22  B23       64       66    ?\n",
            "23  B24       57       77    ?\n",
            "24  B25       77       55    ?\n",
            "25  B26       98       64    ?\n",
            "26  B27       91       59    ?\n",
            "27  B28       50       95    ?\n",
            "28  B29       95       55    ?\n",
            "29  B30       27       79    ?\n"
          ]
        }
      ]
    },
    {
      "cell_type": "code",
      "source": [
        "news = df2['News'].tolist()\n",
        "emotion = df2['Emotion'].tolist()\n",
        "provoke = df2['Provoke'].tolist()"
      ],
      "metadata": {
        "id": "c3CXVstSl3CN"
      },
      "execution_count": 24,
      "outputs": []
    },
    {
      "cell_type": "code",
      "source": [
        "def checkEmotion(x):\n",
        "    print(\"Input : \",x)\n",
        "    eLow, eMedium, eHigh = 0,0,0\n",
        "\n",
        "    if x >= 0 and x <= 35:\n",
        "        eLow    = 1\n",
        "\n",
        "    elif x > 35 and x < 39:\n",
        "        eLow    = (-1*((x-39)/(39-35)))\n",
        "        eMedium = ((x-35)/(39-35))\n",
        "\n",
        "    elif x >= 39 and x <= 61:\n",
        "        eMedium = 1\n",
        "\n",
        "    elif x > 61 and x <65:\n",
        "        eMedium = (-1*((x-65)/(65-61)))\n",
        "        eHigh   = ((x-61)/(65-1))\n",
        "\n",
        "    elif x >= 65:\n",
        "        eHigh   = 1\n",
        "    print(\"eLow : \",eLow, \"eMedium : \",eMedium, \"eHigh : \",eHigh)\n",
        "    return eLow, eMedium, eHigh\n"
      ],
      "metadata": {
        "id": "SR23LalokADo"
      },
      "execution_count": 26,
      "outputs": []
    },
    {
      "cell_type": "code",
      "source": [
        "def checkProvoke(x):\n",
        "    pLow, pMedium, pHigh = 0,0,0\n",
        "\n",
        "    if x >= 0 and x <= 55:\n",
        "        pLow    = 1\n",
        "\n",
        "    elif x > 55 and x < 60:\n",
        "        pLow    = (-1*(x-60)/(60-55))\n",
        "        pMedium = ((x-55)/(60-55))\n",
        "\n",
        "    elif x >= 60 and x <= 85:\n",
        "        pMedium = 1\n",
        "\n",
        "    elif x > 85 and x < 87:\n",
        "        pMedium = (-1*(x-87)/(82-87))\n",
        "        pHigh   = ((x-85)/(87-85))\n",
        "\n",
        "    elif x >= 87:\n",
        "        pHigh   = 1\n",
        "\n",
        "    return pLow, pMedium, pHigh"
      ],
      "metadata": {
        "id": "v2bxeSJakecH"
      },
      "execution_count": 27,
      "outputs": []
    },
    {
      "cell_type": "code",
      "source": [
        "def inference(eLow, eMedium, eHigh, pLow, pMedium, pHigh):\n",
        "    Y1,Y2,Y3,Y4,Y5 = 0,0,0,0,0\n",
        "    N1,N2,N3,N4 = 0,0,0,0\n",
        "    Y,N = 0,0\n",
        "\n",
        "    if eHigh != 0 and pHigh != 0:\n",
        "        Y1 = min(eHigh,pHigh)\n",
        "\n",
        "    if eHigh != 0 and pMedium != 0:\n",
        "        Y2 = min(eHigh,pMedium)\n",
        "\n",
        "    if eHigh != 0 and pLow != 0:\n",
        "        N1 = min(eHigh,pLow)\n",
        "\n",
        "    if eMedium != 0 and pHigh !=0:\n",
        "        Y3 = min(eMedium,pHigh)\n",
        "\n",
        "    if eMedium != 0 and pMedium != 0:\n",
        "        N2 = min(eMedium,pMedium)\n",
        "\n",
        "    if eMedium != 0 and pLow != 0:\n",
        "        N3 = min(eMedium,pLow)\n",
        "\n",
        "    if eLow != 0 and pHigh != 0:\n",
        "        Y4 = min(eLow,pHigh)\n",
        "\n",
        "    if eLow != 0 and pMedium != 0:\n",
        "        Y5 = min(eLow,pMedium)\n",
        "\n",
        "    if eLow != 0 and pLow != 0:\n",
        "        N4 = min(eLow,pLow)\n",
        "\n",
        "    Y = max(Y1,Y2,Y3,Y4,Y5)\n",
        "    N = max(N1,N2,N3,N4)\n",
        "    return Y,N"
      ],
      "metadata": {
        "id": "OwMi1c9pkjwd"
      },
      "execution_count": 28,
      "outputs": []
    },
    {
      "cell_type": "code",
      "source": [
        "def defuzzification(Y,N):\n",
        "    if Y != 0 and N != 0:\n",
        "        return ((Y*60)+(N*40))/(Y+N)\n",
        "    elif Y != 0:\n",
        "        return (Y*60)/Y\n",
        "    elif N != 0:\n",
        "        return (N*40)/N"
      ],
      "metadata": {
        "id": "P6gzs7C1km5M"
      },
      "execution_count": 29,
      "outputs": []
    },
    {
      "cell_type": "code",
      "source": [
        "count = 0\n",
        "while count < 30:\n",
        "    eLow,eMedium,eHigh = checkEmotion(emotion[count])\n",
        "    pLow,pMedium,pHigh = checkProvoke(provoke[count])\n",
        "    Ya,Tidak = inference(eLow,eMedium,eHigh,pLow,pMedium,pHigh)\n",
        "    hasil = defuzzification(Ya,Tidak)\n",
        "    if hasil < 55.0:\n",
        "        hoax = \"No\"\n",
        "    elif hasil >= 55.0:\n",
        "        hoax = \"Yes\"\n",
        "    print(\"News : \",news[count],\" Emotion : \",emotion[count],\" Provoke : \",provoke[count],\" Hoax : \", hoax)\n",
        "\n",
        "    count += 1"
      ],
      "metadata": {
        "colab": {
          "base_uri": "https://localhost:8080/"
        },
        "id": "ZQIHUO4ckrJX",
        "outputId": "b1772bf8-d681-4d54-ec5b-d143a3494588"
      },
      "execution_count": 30,
      "outputs": [
        {
          "output_type": "stream",
          "name": "stdout",
          "text": [
            "Input :  97\n",
            "eLow :  0 eMedium :  0 eHigh :  1\n",
            "News :  B01  Emotion :  97  Provoke :  74  Hoax :  Yes\n",
            "Input :  36\n",
            "eLow :  0.75 eMedium :  0.25 eHigh :  0\n",
            "News :  B02  Emotion :  36  Provoke :  85  Hoax :  Yes\n",
            "Input :  63\n",
            "eLow :  0 eMedium :  0.5 eHigh :  0.03125\n",
            "News :  B03  Emotion :  63  Provoke :  43  Hoax :  No\n",
            "Input :  82\n",
            "eLow :  0 eMedium :  0 eHigh :  1\n",
            "News :  B04  Emotion :  82  Provoke :  90  Hoax :  Yes\n",
            "Input :  71\n",
            "eLow :  0 eMedium :  0 eHigh :  1\n",
            "News :  B05  Emotion :  71  Provoke :  25  Hoax :  No\n",
            "Input :  79\n",
            "eLow :  0 eMedium :  0 eHigh :  1\n",
            "News :  B06  Emotion :  79  Provoke :  81  Hoax :  Yes\n",
            "Input :  55\n",
            "eLow :  0 eMedium :  1 eHigh :  0\n",
            "News :  B07  Emotion :  55  Provoke :  62  Hoax :  No\n",
            "Input :  57\n",
            "eLow :  0 eMedium :  1 eHigh :  0\n",
            "News :  B08  Emotion :  57  Provoke :  45  Hoax :  No\n",
            "Input :  40\n",
            "eLow :  0 eMedium :  1 eHigh :  0\n",
            "News :  B09  Emotion :  40  Provoke :  65  Hoax :  No\n",
            "Input :  57\n",
            "eLow :  0 eMedium :  1 eHigh :  0\n",
            "News :  B10  Emotion :  57  Provoke :  45  Hoax :  No\n",
            "Input :  77\n",
            "eLow :  0 eMedium :  0 eHigh :  1\n",
            "News :  B11  Emotion :  77  Provoke :  70  Hoax :  Yes\n",
            "Input :  68\n",
            "eLow :  0 eMedium :  0 eHigh :  1\n",
            "News :  B12  Emotion :  68  Provoke :  75  Hoax :  Yes\n",
            "Input :  60\n",
            "eLow :  0 eMedium :  1 eHigh :  0\n",
            "News :  B13  Emotion :  60  Provoke :  70  Hoax :  No\n",
            "Input :  82\n",
            "eLow :  0 eMedium :  0 eHigh :  1\n",
            "News :  B14  Emotion :  82  Provoke :  90  Hoax :  Yes\n",
            "Input :  40\n",
            "eLow :  0 eMedium :  1 eHigh :  0\n",
            "News :  B15  Emotion :  40  Provoke :  85  Hoax :  No\n",
            "Input :  80\n",
            "eLow :  0 eMedium :  0 eHigh :  1\n",
            "News :  B16  Emotion :  80  Provoke :  68  Hoax :  Yes\n",
            "Input :  60\n",
            "eLow :  0 eMedium :  1 eHigh :  0\n",
            "News :  B17  Emotion :  60  Provoke :  72  Hoax :  No\n",
            "Input :  50\n",
            "eLow :  0 eMedium :  1 eHigh :  0\n",
            "News :  B18  Emotion :  50  Provoke :  95  Hoax :  Yes\n",
            "Input :  100\n",
            "eLow :  0 eMedium :  0 eHigh :  1\n",
            "News :  B19  Emotion :  100  Provoke :  18  Hoax :  No\n",
            "Input :  11\n",
            "eLow :  1 eMedium :  0 eHigh :  0\n",
            "News :  B20  Emotion :  11  Provoke :  99  Hoax :  Yes\n",
            "Input :  58\n",
            "eLow :  0 eMedium :  1 eHigh :  0\n",
            "News :  B21  Emotion :  58  Provoke :  63  Hoax :  No\n",
            "Input :  68\n",
            "eLow :  0 eMedium :  0 eHigh :  1\n",
            "News :  B22  Emotion :  68  Provoke :  70  Hoax :  Yes\n",
            "Input :  64\n",
            "eLow :  0 eMedium :  0.25 eHigh :  0.046875\n",
            "News :  B23  Emotion :  64  Provoke :  66  Hoax :  No\n",
            "Input :  57\n",
            "eLow :  0 eMedium :  1 eHigh :  0\n",
            "News :  B24  Emotion :  57  Provoke :  77  Hoax :  No\n",
            "Input :  77\n",
            "eLow :  0 eMedium :  0 eHigh :  1\n",
            "News :  B25  Emotion :  77  Provoke :  55  Hoax :  No\n",
            "Input :  98\n",
            "eLow :  0 eMedium :  0 eHigh :  1\n",
            "News :  B26  Emotion :  98  Provoke :  64  Hoax :  Yes\n",
            "Input :  91\n",
            "eLow :  0 eMedium :  0 eHigh :  1\n",
            "News :  B27  Emotion :  91  Provoke :  59  Hoax :  Yes\n",
            "Input :  50\n",
            "eLow :  0 eMedium :  1 eHigh :  0\n",
            "News :  B28  Emotion :  50  Provoke :  95  Hoax :  Yes\n",
            "Input :  95\n",
            "eLow :  0 eMedium :  0 eHigh :  1\n",
            "News :  B29  Emotion :  95  Provoke :  55  Hoax :  No\n",
            "Input :  27\n",
            "eLow :  1 eMedium :  0 eHigh :  0\n",
            "News :  B30  Emotion :  27  Provoke :  79  Hoax :  Yes\n"
          ]
        }
      ]
    },
    {
      "cell_type": "markdown",
      "source": [
        "**Penjelasan :**\n",
        "\n",
        "Data yang ada pada source code diambil dari data dalam file excel yang telah diupload sebelumnya. Oleh karena itulah yang membuat data pada source code secara otomatis berubah mengikuti data dalam file excel yang telah diupload"
      ],
      "metadata": {
        "id": "puWkqUswm678"
      }
    }
  ]
}